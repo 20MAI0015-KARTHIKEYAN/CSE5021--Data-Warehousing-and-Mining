{
  "nbformat": 4,
  "nbformat_minor": 0,
  "metadata": {
    "colab": {
      "name": "DWM_DECISION_TREE_KNN.ipynb",
      "provenance": [],
      "collapsed_sections": []
    },
    "kernelspec": {
      "name": "python3",
      "display_name": "Python 3"
    },
    "language_info": {
      "name": "python"
    }
  },
  "cells": [
    {
      "cell_type": "markdown",
      "metadata": {
        "id": "2XJ_3-L0WzP1"
      },
      "source": [
        "# DECISION TREE AND K NEAREST NEIGHBOUR IMPLEMENTATION"
      ]
    },
    {
      "cell_type": "markdown",
      "metadata": {
        "id": "8vK82kB-W7Te"
      },
      "source": [
        "REG NO: 20MAI0015"
      ]
    },
    {
      "cell_type": "markdown",
      "metadata": {
        "id": "-s_LXvXRZTKU"
      },
      "source": [
        "DATASET : https://www.kaggle.com/kazanova/sentiment140/download"
      ]
    },
    {
      "cell_type": "code",
      "metadata": {
        "id": "PKubQUOzAAUB"
      },
      "source": [
        "import numpy as numpy\n",
        "import pandas as pd"
      ],
      "execution_count": 1,
      "outputs": []
    },
    {
      "cell_type": "markdown",
      "metadata": {
        "id": "KtCDY-g4Jmb9"
      },
      "source": [
        "To visualize the data in the project"
      ]
    },
    {
      "cell_type": "code",
      "metadata": {
        "id": "fkwWUHIEDYU2"
      },
      "source": [
        "import matplotlib\n",
        "import matplotlib.pyplot as plt\n",
        "%matplotlib inline\n",
        "import seaborn as sns"
      ],
      "execution_count": 2,
      "outputs": []
    },
    {
      "cell_type": "code",
      "metadata": {
        "id": "3h6mTzKLDZzb"
      },
      "source": [
        "import sklearn\n",
        "from sklearn.utils import shuffle \n",
        "from sklearn.feature_extraction.text import TfidfVectorizer"
      ],
      "execution_count": 3,
      "outputs": []
    },
    {
      "cell_type": "markdown",
      "metadata": {
        "id": "2s_Cv6oNJkdo"
      },
      "source": [
        "NLP Preprocessing libraries"
      ]
    },
    {
      "cell_type": "code",
      "metadata": {
        "id": "4ISPGdrXDbK-"
      },
      "source": [
        "import nltk\n",
        "from nltk.corpus import stopwords\n",
        "from nltk.tokenize import word_tokenize\n"
      ],
      "execution_count": 4,
      "outputs": []
    },
    {
      "cell_type": "code",
      "metadata": {
        "id": "K4ZyRdK0DgCS"
      },
      "source": [
        "import re\n",
        "import random\n",
        "import gensim"
      ],
      "execution_count": 5,
      "outputs": []
    },
    {
      "cell_type": "code",
      "metadata": {
        "id": "A4NnHxbjDgWs"
      },
      "source": [
        "\n",
        "from collections import Counter\n",
        "import unicodedata as udata\n",
        "import string"
      ],
      "execution_count": 6,
      "outputs": []
    },
    {
      "cell_type": "code",
      "metadata": {
        "colab": {
          "base_uri": "https://localhost:8080/"
        },
        "id": "Tos8BVInDhbg",
        "outputId": "3dee03e8-d6b1-484f-954c-d6fa3590f2fb"
      },
      "source": [
        "from google.colab import drive\n",
        "drive.mount(\"/content/drive/\")\n"
      ],
      "execution_count": 7,
      "outputs": [
        {
          "output_type": "stream",
          "text": [
            "Mounted at /content/drive/\n"
          ],
          "name": "stdout"
        }
      ]
    },
    {
      "cell_type": "code",
      "metadata": {
        "id": "PxS_zbz2HYn-"
      },
      "source": [
        "df = pd.read_csv(\"/content/drive/My Drive/tw_data.csv\", encoding='latin-1', header=None)"
      ],
      "execution_count": 8,
      "outputs": []
    },
    {
      "cell_type": "markdown",
      "metadata": {
        "id": "qL6ZpNNvJga7"
      },
      "source": [
        "\n",
        "Reading csv file"
      ]
    },
    {
      "cell_type": "code",
      "metadata": {
        "id": "g0u1UKx9HkoU"
      },
      "source": [
        "df = df.sample(frac=1).reset_index(drop=True)"
      ],
      "execution_count": 9,
      "outputs": []
    },
    {
      "cell_type": "markdown",
      "metadata": {
        "id": "NtiAwA0OJpaX"
      },
      "source": [
        "Give column names - \n",
        "Assigning the Columns name to the data"
      ]
    },
    {
      "cell_type": "code",
      "metadata": {
        "id": "Gt5llyW2JarE"
      },
      "source": [
        "df.columns = [\"sentiment\", \"id\", \"date\", \"query\", \"user\", \"text\"]"
      ],
      "execution_count": 10,
      "outputs": []
    },
    {
      "cell_type": "code",
      "metadata": {
        "colab": {
          "base_uri": "https://localhost:8080/"
        },
        "id": "kWXS5fJEJs5c",
        "outputId": "c0331421-8617-438b-a154-6360fa4524b4"
      },
      "source": [
        "df.columns"
      ],
      "execution_count": 11,
      "outputs": [
        {
          "output_type": "execute_result",
          "data": {
            "text/plain": [
              "Index(['sentiment', 'id', 'date', 'query', 'user', 'text'], dtype='object')"
            ]
          },
          "metadata": {
            "tags": []
          },
          "execution_count": 11
        }
      ]
    },
    {
      "cell_type": "markdown",
      "metadata": {
        "id": "mJQeROFcJ00n"
      },
      "source": [
        "Checking Null values in the dataset. Here we are counting each cloumn null values in the data set"
      ]
    },
    {
      "cell_type": "code",
      "metadata": {
        "colab": {
          "base_uri": "https://localhost:8080/"
        },
        "id": "tFJBPhjJJwmb",
        "outputId": "973f9712-f71c-49c5-b305-d8b5a20415ef"
      },
      "source": [
        "df.isnull().sum()"
      ],
      "execution_count": 12,
      "outputs": [
        {
          "output_type": "execute_result",
          "data": {
            "text/plain": [
              "sentiment    0\n",
              "id           0\n",
              "date         0\n",
              "query        0\n",
              "user         0\n",
              "text         0\n",
              "dtype: int64"
            ]
          },
          "metadata": {
            "tags": []
          },
          "execution_count": 12
        }
      ]
    },
    {
      "cell_type": "markdown",
      "metadata": {
        "id": "B-as-x9tJ58G"
      },
      "source": [
        "Checking the duplicates values and counting duplicates in the data set"
      ]
    },
    {
      "cell_type": "code",
      "metadata": {
        "colab": {
          "base_uri": "https://localhost:8080/"
        },
        "id": "CgM1mOzRKCCK",
        "outputId": "9d3e1043-c33f-4d41-f23a-a690cbac0a31"
      },
      "source": [
        "df.duplicated().sum()"
      ],
      "execution_count": 13,
      "outputs": [
        {
          "output_type": "execute_result",
          "data": {
            "text/plain": [
              "0"
            ]
          },
          "metadata": {
            "tags": []
          },
          "execution_count": 13
        }
      ]
    },
    {
      "cell_type": "code",
      "metadata": {
        "colab": {
          "base_uri": "https://localhost:8080/",
          "height": 363
        },
        "id": "igTetC_AJ5qJ",
        "outputId": "27d3813d-b7fe-46c8-c7fb-9c0610e0c567"
      },
      "source": [
        "df.head(5)"
      ],
      "execution_count": 14,
      "outputs": [
        {
          "output_type": "execute_result",
          "data": {
            "text/html": [
              "<div>\n",
              "<style scoped>\n",
              "    .dataframe tbody tr th:only-of-type {\n",
              "        vertical-align: middle;\n",
              "    }\n",
              "\n",
              "    .dataframe tbody tr th {\n",
              "        vertical-align: top;\n",
              "    }\n",
              "\n",
              "    .dataframe thead th {\n",
              "        text-align: right;\n",
              "    }\n",
              "</style>\n",
              "<table border=\"1\" class=\"dataframe\">\n",
              "  <thead>\n",
              "    <tr style=\"text-align: right;\">\n",
              "      <th></th>\n",
              "      <th>sentiment</th>\n",
              "      <th>id</th>\n",
              "      <th>date</th>\n",
              "      <th>query</th>\n",
              "      <th>user</th>\n",
              "      <th>text</th>\n",
              "    </tr>\n",
              "  </thead>\n",
              "  <tbody>\n",
              "    <tr>\n",
              "      <th>0</th>\n",
              "      <td>4</td>\n",
              "      <td>1962713567</td>\n",
              "      <td>Fri May 29 11:31:06 PDT 2009</td>\n",
              "      <td>NO_QUERY</td>\n",
              "      <td>fashionchalet</td>\n",
              "      <td>@beach_bot @WeWereDamsels thanks, lovelies</td>\n",
              "    </tr>\n",
              "    <tr>\n",
              "      <th>1</th>\n",
              "      <td>4</td>\n",
              "      <td>1685759862</td>\n",
              "      <td>Sun May 03 01:56:23 PDT 2009</td>\n",
              "      <td>NO_QUERY</td>\n",
              "      <td>jessixcouture</td>\n",
              "      <td>@mikeziemer take our tears put em on ice..caus...</td>\n",
              "    </tr>\n",
              "    <tr>\n",
              "      <th>2</th>\n",
              "      <td>0</td>\n",
              "      <td>2187450426</td>\n",
              "      <td>Mon Jun 15 20:17:59 PDT 2009</td>\n",
              "      <td>NO_QUERY</td>\n",
              "      <td>kingivn</td>\n",
              "      <td>Wow I just passed bye my block AVE D IS SO QUI...</td>\n",
              "    </tr>\n",
              "    <tr>\n",
              "      <th>3</th>\n",
              "      <td>4</td>\n",
              "      <td>2050418273</td>\n",
              "      <td>Fri Jun 05 18:38:00 PDT 2009</td>\n",
              "      <td>NO_QUERY</td>\n",
              "      <td>samvlcek</td>\n",
              "      <td>got my black heels&amp;amp;nails and a blue dress ...</td>\n",
              "    </tr>\n",
              "    <tr>\n",
              "      <th>4</th>\n",
              "      <td>4</td>\n",
              "      <td>2016418864</td>\n",
              "      <td>Wed Jun 03 06:44:40 PDT 2009</td>\n",
              "      <td>NO_QUERY</td>\n",
              "      <td>missandree</td>\n",
              "      <td>@danasmuse Good luck! Have a nice day</td>\n",
              "    </tr>\n",
              "  </tbody>\n",
              "</table>\n",
              "</div>"
            ],
            "text/plain": [
              "   sentiment  ...                                               text\n",
              "0          4  ...        @beach_bot @WeWereDamsels thanks, lovelies \n",
              "1          4  ...  @mikeziemer take our tears put em on ice..caus...\n",
              "2          0  ...  Wow I just passed bye my block AVE D IS SO QUI...\n",
              "3          4  ...  got my black heels&amp;nails and a blue dress ...\n",
              "4          4  ...             @danasmuse Good luck! Have a nice day \n",
              "\n",
              "[5 rows x 6 columns]"
            ]
          },
          "metadata": {
            "tags": []
          },
          "execution_count": 14
        }
      ]
    },
    {
      "cell_type": "code",
      "metadata": {
        "id": "UZY6lIUWJyLt"
      },
      "source": [
        "df = df.drop([\"id\", \"date\", \"query\", \"user\"], axis = 1)"
      ],
      "execution_count": 15,
      "outputs": []
    },
    {
      "cell_type": "code",
      "metadata": {
        "colab": {
          "base_uri": "https://localhost:8080/",
          "height": 195
        },
        "id": "mYNhkQQsKGJ_",
        "outputId": "019d4b9c-3785-479e-baf2-5aa0b47a2c46"
      },
      "source": [
        "df.head(5)"
      ],
      "execution_count": 16,
      "outputs": [
        {
          "output_type": "execute_result",
          "data": {
            "text/html": [
              "<div>\n",
              "<style scoped>\n",
              "    .dataframe tbody tr th:only-of-type {\n",
              "        vertical-align: middle;\n",
              "    }\n",
              "\n",
              "    .dataframe tbody tr th {\n",
              "        vertical-align: top;\n",
              "    }\n",
              "\n",
              "    .dataframe thead th {\n",
              "        text-align: right;\n",
              "    }\n",
              "</style>\n",
              "<table border=\"1\" class=\"dataframe\">\n",
              "  <thead>\n",
              "    <tr style=\"text-align: right;\">\n",
              "      <th></th>\n",
              "      <th>sentiment</th>\n",
              "      <th>text</th>\n",
              "    </tr>\n",
              "  </thead>\n",
              "  <tbody>\n",
              "    <tr>\n",
              "      <th>0</th>\n",
              "      <td>4</td>\n",
              "      <td>@beach_bot @WeWereDamsels thanks, lovelies</td>\n",
              "    </tr>\n",
              "    <tr>\n",
              "      <th>1</th>\n",
              "      <td>4</td>\n",
              "      <td>@mikeziemer take our tears put em on ice..caus...</td>\n",
              "    </tr>\n",
              "    <tr>\n",
              "      <th>2</th>\n",
              "      <td>0</td>\n",
              "      <td>Wow I just passed bye my block AVE D IS SO QUI...</td>\n",
              "    </tr>\n",
              "    <tr>\n",
              "      <th>3</th>\n",
              "      <td>4</td>\n",
              "      <td>got my black heels&amp;amp;nails and a blue dress ...</td>\n",
              "    </tr>\n",
              "    <tr>\n",
              "      <th>4</th>\n",
              "      <td>4</td>\n",
              "      <td>@danasmuse Good luck! Have a nice day</td>\n",
              "    </tr>\n",
              "  </tbody>\n",
              "</table>\n",
              "</div>"
            ],
            "text/plain": [
              "   sentiment                                               text\n",
              "0          4        @beach_bot @WeWereDamsels thanks, lovelies \n",
              "1          4  @mikeziemer take our tears put em on ice..caus...\n",
              "2          0  Wow I just passed bye my block AVE D IS SO QUI...\n",
              "3          4  got my black heels&amp;nails and a blue dress ...\n",
              "4          4             @danasmuse Good luck! Have a nice day "
            ]
          },
          "metadata": {
            "tags": []
          },
          "execution_count": 16
        }
      ]
    },
    {
      "cell_type": "code",
      "metadata": {
        "colab": {
          "base_uri": "https://localhost:8080/"
        },
        "id": "ortD9PSYKHyB",
        "outputId": "690d2314-097f-4504-a459-72c41258c166"
      },
      "source": [
        "df.sentiment.value_counts()"
      ],
      "execution_count": 17,
      "outputs": [
        {
          "output_type": "execute_result",
          "data": {
            "text/plain": [
              "4    800000\n",
              "0    800000\n",
              "Name: sentiment, dtype: int64"
            ]
          },
          "metadata": {
            "tags": []
          },
          "execution_count": 17
        }
      ]
    },
    {
      "cell_type": "markdown",
      "metadata": {
        "id": "4-Bco3dAKOUK"
      },
      "source": [
        "Cleaning data -- \n",
        "add new column pre_clean_len to dataframe which is length of each tweet"
      ]
    },
    {
      "cell_type": "code",
      "metadata": {
        "id": "ElvaB4XeKJDe"
      },
      "source": [
        "df['pre_clean_len'] = [len(t) for t in df.text]\n"
      ],
      "execution_count": 18,
      "outputs": []
    },
    {
      "cell_type": "markdown",
      "metadata": {
        "id": "XpG_vgt4KUbM"
      },
      "source": [
        "Finding outliers using Box plot using pre_clean_len column"
      ]
    },
    {
      "cell_type": "code",
      "metadata": {
        "colab": {
          "base_uri": "https://localhost:8080/",
          "height": 265
        },
        "id": "sxNdfKZ6KRgb",
        "outputId": "4a55ae04-ecf7-4d6f-dfad-bb85117ee8cf"
      },
      "source": [
        "plt.boxplot(df.pre_clean_len)\n",
        "plt.show()"
      ],
      "execution_count": 19,
      "outputs": [
        {
          "output_type": "display_data",
          "data": {
            "image/png": "[encoded data removed]",
            "text/plain": [
              "<Figure size 432x288 with 1 Axes>"
            ]
          },
          "metadata": {
            "tags": [],
            "needs_background": "light"
          }
        }
      ]
    },
    {
      "cell_type": "markdown",
      "metadata": {
        "id": "JSQlrvrbKaz3"
      },
      "source": [
        "\n",
        "check for any tweets greater than 140 characters"
      ]
    },
    {
      "cell_type": "code",
      "metadata": {
        "colab": {
          "base_uri": "https://localhost:8080/",
          "height": 343
        },
        "id": "VmO5UGmBKYDR",
        "outputId": "57ee1390-172d-4d67-b8a1-6102007dd671"
      },
      "source": [
        "df[df.pre_clean_len > 140].head(10)"
      ],
      "execution_count": 20,
      "outputs": [
        {
          "output_type": "execute_result",
          "data": {
            "text/html": [
              "<div>\n",
              "<style scoped>\n",
              "    .dataframe tbody tr th:only-of-type {\n",
              "        vertical-align: middle;\n",
              "    }\n",
              "\n",
              "    .dataframe tbody tr th {\n",
              "        vertical-align: top;\n",
              "    }\n",
              "\n",
              "    .dataframe thead th {\n",
              "        text-align: right;\n",
              "    }\n",
              "</style>\n",
              "<table border=\"1\" class=\"dataframe\">\n",
              "  <thead>\n",
              "    <tr style=\"text-align: right;\">\n",
              "      <th></th>\n",
              "      <th>sentiment</th>\n",
              "      <th>text</th>\n",
              "      <th>pre_clean_len</th>\n",
              "    </tr>\n",
              "  </thead>\n",
              "  <tbody>\n",
              "    <tr>\n",
              "      <th>54</th>\n",
              "      <td>4</td>\n",
              "      <td>My dogs are adorable! One's crashed on the cou...</td>\n",
              "      <td>142</td>\n",
              "    </tr>\n",
              "    <tr>\n",
              "      <th>139</th>\n",
              "      <td>4</td>\n",
              "      <td>Ok I'm going back to sleep... Gimme a few more...</td>\n",
              "      <td>147</td>\n",
              "    </tr>\n",
              "    <tr>\n",
              "      <th>168</th>\n",
              "      <td>4</td>\n",
              "      <td>A direct quote from a coworker: &amp;quot;its almo...</td>\n",
              "      <td>141</td>\n",
              "    </tr>\n",
              "    <tr>\n",
              "      <th>323</th>\n",
              "      <td>4</td>\n",
              "      <td>@chri5784 flushes drive me nuts (like that whe...</td>\n",
              "      <td>141</td>\n",
              "    </tr>\n",
              "    <tr>\n",
              "      <th>393</th>\n",
              "      <td>4</td>\n",
              "      <td>@ScottATaylor  Pretty good, thanks!  I'm half ...</td>\n",
              "      <td>147</td>\n",
              "    </tr>\n",
              "    <tr>\n",
              "      <th>457</th>\n",
              "      <td>4</td>\n",
              "      <td>okay tweeps, i rlly need yr help by hitting up...</td>\n",
              "      <td>141</td>\n",
              "    </tr>\n",
              "    <tr>\n",
              "      <th>472</th>\n",
              "      <td>0</td>\n",
              "      <td>Oh no! our pet garter snake has vitamin B defi...</td>\n",
              "      <td>147</td>\n",
              "    </tr>\n",
              "    <tr>\n",
              "      <th>691</th>\n",
              "      <td>4</td>\n",
              "      <td>@JodiCleghorn That would be cool. Currently I ...</td>\n",
              "      <td>146</td>\n",
              "    </tr>\n",
              "    <tr>\n",
              "      <th>853</th>\n",
              "      <td>4</td>\n",
              "      <td>part of my more serious &amp;quot;twitter&amp;quot; to...</td>\n",
              "      <td>156</td>\n",
              "    </tr>\n",
              "    <tr>\n",
              "      <th>894</th>\n",
              "      <td>4</td>\n",
              "      <td>Listening to: 50 Cent - I Get Money ...I FORGO...</td>\n",
              "      <td>142</td>\n",
              "    </tr>\n",
              "  </tbody>\n",
              "</table>\n",
              "</div>"
            ],
            "text/plain": [
              "     sentiment  ... pre_clean_len\n",
              "54           4  ...           142\n",
              "139          4  ...           147\n",
              "168          4  ...           141\n",
              "323          4  ...           141\n",
              "393          4  ...           147\n",
              "457          4  ...           141\n",
              "472          0  ...           147\n",
              "691          4  ...           146\n",
              "853          4  ...           156\n",
              "894          4  ...           142\n",
              "\n",
              "[10 rows x 3 columns]"
            ]
          },
          "metadata": {
            "tags": []
          },
          "execution_count": 20
        }
      ]
    },
    {
      "cell_type": "markdown",
      "metadata": {
        "id": "hHx6YJEdKecn"
      },
      "source": [
        "**removing outlier tweets**\n",
        "\n",
        "Cleaning operations\n",
        "\n",
        "Importing beautiful \n",
        "\n",
        "remove @ mentions from tweets\n",
        "\n",
        "remove URLs from tweets\n",
        "\n",
        "converting words like isn't to is not\n",
        "\n",
        "get only text from the tweets\n",
        "\n",
        "remove utf-8-sig code\n",
        "\n",
        "converting all into lower case\n",
        "\n",
        "will replace non-alphabetic characters by space\n",
        "\n",
        "Word Punct Tokenize and only consider \n",
        "\n",
        "words whose length is greater than 1\n",
        "\n",
        "join the words\n",
        "\n"
      ]
    },
    {
      "cell_type": "code",
      "metadata": {
        "id": "PN-rnjdzKZ0Y"
      },
      "source": [
        "import re\n",
        "from bs4 import BeautifulSoup\n",
        "from nltk.tokenize import WordPunctTokenizer\n",
        "tok = WordPunctTokenizer()"
      ],
      "execution_count": 21,
      "outputs": []
    },
    {
      "cell_type": "code",
      "metadata": {
        "id": "ieS6AopRQ7k8"
      },
      "source": [
        "pat1 = r'@[A-Za-z0-9_]+'        # remove @ mentions from tweets\n",
        "pat2 = r'https?://[^ ]+'        # remove URLs from tweets\n",
        "combined_pat = r'|'.join((pat1, pat2)) #addition of pat1 and pat2\n",
        "www_pat = r'www.[^ ]+'         # remove URLs from tweets\n",
        "negations_dic = {\"isn't\":\"is not\", \"aren't\":\"are not\", \"wasn't\":\"was not\", \"weren't\":\"were not\",   # converting words like isn't to is not\n",
        "                \"haven't\":\"have not\",\"hasn't\":\"has not\",\"hadn't\":\"had not\",\"won't\":\"will not\",\n",
        "                \"wouldn't\":\"would not\", \"don't\":\"do not\", \"doesn't\":\"does not\",\"didn't\":\"did not\",\n",
        "                \"can't\":\"can not\",\"couldn't\":\"could not\",\"shouldn't\":\"should not\",\"mightn't\":\"might not\",\n",
        "                \"mustn't\":\"must not\"}\n",
        "neg_pattern = re.compile(r'\\b(' + '|'.join(negations_dic.keys()) + r')\\b')"
      ],
      "execution_count": 22,
      "outputs": []
    },
    {
      "cell_type": "code",
      "metadata": {
        "id": "UQ1hQ_P-Q9_r"
      },
      "source": [
        "def tweet_cleaner(text):  # define tweet_cleaner function to clean the tweets\n",
        "    soup = BeautifulSoup(text, 'lxml')    # create beautiful soup object\n",
        "    souped = soup.get_text()   # get only text from the tweets \n",
        "    try:\n",
        "        bom_removed = souped.decode(\"utf-8-sig\").replace(u\"\\ufffd\", \"?\")    # remove utf-8-sig code\n",
        "    except:\n",
        "        bom_removed = souped\n",
        "    stripped = re.sub(combined_pat, '', bom_removed) # calling combined_pat\n",
        "    stripped = re.sub(www_pat, '', stripped) #remove URLs\n",
        "    lower_case = stripped.lower()      # converting all into lower case\n",
        "    neg_handled = neg_pattern.sub(lambda x: negations_dic[x.group()], lower_case) # converting words like isn't to is not\n",
        "    letters_only = re.sub(\"[^a-zA-Z]\", \" \", neg_handled)       # will replace # by space\n",
        "    words = [x for x  in tok.tokenize(letters_only) if len(x) > 1] # Word Punct Tokenize and only consider words whose length is greater than 1\n",
        "    return (\" \".join(words)).strip() # join the words"
      ],
      "execution_count": 23,
      "outputs": []
    },
    {
      "cell_type": "code",
      "metadata": {
        "colab": {
          "base_uri": "https://localhost:8080/"
        },
        "id": "ZvJgsoyqQ_3T",
        "outputId": "dba0f901-130d-4ceb-b889-af4eb6e9a115"
      },
      "source": [
        "#Note that we have 1600000 instances. But processing so many instances will take a very very long time.\n",
        "#Hence, restricting to rather 50000 instances.\n",
        "limit=50000\n",
        "import time; \n",
        "ms = time.time()\n",
        "#nums = [0,400000,800000,1200000,1600000] # used for batch processing tweets\n",
        "#nums = [0, 9999]\n",
        "clean_tweet_texts = [] # initialize list\n",
        "for i in range(0,limit): # batch process 1.6 million tweets \n",
        "    if i % 10000==0:\n",
        "        print(i, time.time()-ms)\n",
        "    clean_tweet_texts.append(tweet_cleaner(df['text'][i]))  # call tweet_cleaner function and pass parameter as all the tweets to clean the tweets and append cleaned tweets into clean_tweet_texts list"
      ],
      "execution_count": 24,
      "outputs": [
        {
          "output_type": "stream",
          "text": [
            "0 8.058547973632812e-05\n",
            "10000 2.648667335510254\n",
            "20000 5.2080605030059814\n",
            "30000 7.761733770370483\n",
            "40000 10.356648445129395\n"
          ],
          "name": "stdout"
        }
      ]
    },
    {
      "cell_type": "markdown",
      "metadata": {
        "id": "9NjgVr_aSNM6"
      },
      "source": [
        "clean tweet texts"
      ]
    },
    {
      "cell_type": "code",
      "metadata": {
        "colab": {
          "base_uri": "https://localhost:8080/"
        },
        "id": "lp7IkcxzSMsV",
        "outputId": "68656334-36a5-4a41-a7f6-3111782fb8be"
      },
      "source": [
        "nltk.download('punkt')"
      ],
      "execution_count": 25,
      "outputs": [
        {
          "output_type": "stream",
          "text": [
            "[nltk_data] Downloading package punkt to /root/nltk_data...\n",
            "[nltk_data]   Unzipping tokenizers/punkt.zip.\n"
          ],
          "name": "stdout"
        },
        {
          "output_type": "execute_result",
          "data": {
            "text/plain": [
              "True"
            ]
          },
          "metadata": {
            "tags": []
          },
          "execution_count": 25
        }
      ]
    },
    {
      "cell_type": "markdown",
      "metadata": {
        "id": "SN_UWk6mSTM-"
      },
      "source": [
        "tokenize word in clean_tweet_texts and append it to word_tokens list"
      ]
    },
    {
      "cell_type": "code",
      "metadata": {
        "id": "agLZGb2-RCab"
      },
      "source": [
        "word_tokens = [] # initialize list for tokens\n",
        "for word in clean_tweet_texts:  # for each word in clean_tweet_texts\n",
        "    word_tokens.append(word_tokenize(word)) #tokenize word in clean_tweet_texts and append it to word_tokens list"
      ],
      "execution_count": 26,
      "outputs": []
    },
    {
      "cell_type": "markdown",
      "metadata": {
        "id": "b0M0oiJ7SYi4"
      },
      "source": [
        "\n",
        "Lemmatizing"
      ]
    },
    {
      "cell_type": "code",
      "metadata": {
        "colab": {
          "base_uri": "https://localhost:8080/"
        },
        "id": "fzOsIm4rSVLy",
        "outputId": "812581bd-9799-49ed-a076-1ed288db35a4"
      },
      "source": [
        "nltk.download('wordnet')"
      ],
      "execution_count": 27,
      "outputs": [
        {
          "output_type": "stream",
          "text": [
            "[nltk_data] Downloading package wordnet to /root/nltk_data...\n",
            "[nltk_data]   Unzipping corpora/wordnet.zip.\n"
          ],
          "name": "stdout"
        },
        {
          "output_type": "execute_result",
          "data": {
            "text/plain": [
              "True"
            ]
          },
          "metadata": {
            "tags": []
          },
          "execution_count": 27
        }
      ]
    },
    {
      "cell_type": "code",
      "metadata": {
        "id": "ngK9RhY-SaUK"
      },
      "source": [
        "df1 = [] # initialize list df1 to store words after lemmatization\n",
        "from nltk.stem import WordNetLemmatizer # import WordNetLemmatizer from nltk.stem\n",
        "lemmatizer = WordNetLemmatizer() # create an object of WordNetLemmatizer\n",
        "for l in word_tokens: # for loop for every tokens in word_token\n",
        "    b = [lemmatizer.lemmatize(q) for q in l] #for every tokens in word_token lemmatize word and giev it to b\n",
        "    df1.append(b) #append b to list df1"
      ],
      "execution_count": 28,
      "outputs": []
    },
    {
      "cell_type": "code",
      "metadata": {
        "id": "XDTbpbpfScZ4"
      },
      "source": [
        "clean_df1 =[] # initialize list clean_df1 to join word tokens after lemmatization\n",
        "for c in df1:  # for loop for each list in df1\n",
        "    a = \" \".join(c) # join words in list with space in between and give it to a\n",
        "    clean_df1.append(a) # append a to clean_df1"
      ],
      "execution_count": 29,
      "outputs": []
    },
    {
      "cell_type": "markdown",
      "metadata": {
        "id": "uBTtGq97Sh9k"
      },
      "source": [
        "Cleaning df_1"
      ]
    },
    {
      "cell_type": "code",
      "metadata": {
        "id": "EVDLWzrkSfMu"
      },
      "source": [
        "clean_df = pd.DataFrame(clean_df1,columns=['text']) # convert clean_tweet_texts into dataframe and name it as clean_df\n",
        "#clean_df['target'] = df.sentiment[:10000] # from earlier dataframe get the sentiments of each tweet and make a new column in clean_df as target and give it all the sentiment score\n",
        "#clean_df"
      ],
      "execution_count": 30,
      "outputs": []
    },
    {
      "cell_type": "code",
      "metadata": {
        "id": "d1akU559SmOo"
      },
      "source": [
        "clean_df['clean_len'] = [len(t) for t in clean_df.text] # Again make a new coloumn in the dataframe and name it as clean_len which"
      ],
      "execution_count": 31,
      "outputs": []
    },
    {
      "cell_type": "code",
      "metadata": {
        "colab": {
          "base_uri": "https://localhost:8080/",
          "height": 195
        },
        "id": "X-NrF3orSnpC",
        "outputId": "c8770608-2695-4eff-e033-0c85bdc8788e"
      },
      "source": [
        "target2 = [] # initialize list\n",
        "for i in range(0,limit): # batch process 1.6 million tweets \n",
        "    target2.append(df['sentiment'][i])\n",
        "clean_df['target']=target2\n",
        "df.head()"
      ],
      "execution_count": 32,
      "outputs": [
        {
          "output_type": "execute_result",
          "data": {
            "text/html": [
              "<div>\n",
              "<style scoped>\n",
              "    .dataframe tbody tr th:only-of-type {\n",
              "        vertical-align: middle;\n",
              "    }\n",
              "\n",
              "    .dataframe tbody tr th {\n",
              "        vertical-align: top;\n",
              "    }\n",
              "\n",
              "    .dataframe thead th {\n",
              "        text-align: right;\n",
              "    }\n",
              "</style>\n",
              "<table border=\"1\" class=\"dataframe\">\n",
              "  <thead>\n",
              "    <tr style=\"text-align: right;\">\n",
              "      <th></th>\n",
              "      <th>sentiment</th>\n",
              "      <th>text</th>\n",
              "      <th>pre_clean_len</th>\n",
              "    </tr>\n",
              "  </thead>\n",
              "  <tbody>\n",
              "    <tr>\n",
              "      <th>0</th>\n",
              "      <td>4</td>\n",
              "      <td>@beach_bot @WeWereDamsels thanks, lovelies</td>\n",
              "      <td>43</td>\n",
              "    </tr>\n",
              "    <tr>\n",
              "      <th>1</th>\n",
              "      <td>4</td>\n",
              "      <td>@mikeziemer take our tears put em on ice..caus...</td>\n",
              "      <td>100</td>\n",
              "    </tr>\n",
              "    <tr>\n",
              "      <th>2</th>\n",
              "      <td>0</td>\n",
              "      <td>Wow I just passed bye my block AVE D IS SO QUI...</td>\n",
              "      <td>134</td>\n",
              "    </tr>\n",
              "    <tr>\n",
              "      <th>3</th>\n",
              "      <td>4</td>\n",
              "      <td>got my black heels&amp;amp;nails and a blue dress ...</td>\n",
              "      <td>98</td>\n",
              "    </tr>\n",
              "    <tr>\n",
              "      <th>4</th>\n",
              "      <td>4</td>\n",
              "      <td>@danasmuse Good luck! Have a nice day</td>\n",
              "      <td>38</td>\n",
              "    </tr>\n",
              "  </tbody>\n",
              "</table>\n",
              "</div>"
            ],
            "text/plain": [
              "   sentiment                                               text  pre_clean_len\n",
              "0          4        @beach_bot @WeWereDamsels thanks, lovelies              43\n",
              "1          4  @mikeziemer take our tears put em on ice..caus...            100\n",
              "2          0  Wow I just passed bye my block AVE D IS SO QUI...            134\n",
              "3          4  got my black heels&amp;nails and a blue dress ...             98\n",
              "4          4             @danasmuse Good luck! Have a nice day              38"
            ]
          },
          "metadata": {
            "tags": []
          },
          "execution_count": 32
        }
      ]
    },
    {
      "cell_type": "code",
      "metadata": {
        "colab": {
          "base_uri": "https://localhost:8080/"
        },
        "id": "k70Iv5_zStHC",
        "outputId": "21cb6e5b-e5b0-4bd1-a7ef-2f0f5e394579"
      },
      "source": [
        "X = clean_df.text # get all the text in x variable\n",
        "y = clean_df.target # get all the sentiments into y variable\n",
        "print(X.shape) #print shape of x\n",
        "print(y.shape) # print shape of y\n",
        "from collections import Counter\n",
        "print(set(y)) # equals to list(set(words))\n",
        "print(Counter(y).values())"
      ],
      "execution_count": 33,
      "outputs": [
        {
          "output_type": "stream",
          "text": [
            "(50000,)\n",
            "(50000,)\n",
            "{0, 4}\n",
            "dict_values([24903, 25097])\n"
          ],
          "name": "stdout"
        }
      ]
    },
    {
      "cell_type": "markdown",
      "metadata": {
        "id": "Ceq3k_cASxiy"
      },
      "source": [
        "Perform train and test split\n",
        "\n",
        "X_train is the tweets of training data, X_test is the testing tweets which we have to predict, y_train is the sentiments of tweets in the traing data and y_test is the sentiments of the tweets which we will use to measure the accuracy of the model"
      ]
    },
    {
      "cell_type": "code",
      "metadata": {
        "id": "hHLw1xhXSvs1"
      },
      "source": [
        "from sklearn.model_selection  import train_test_split #from sklearn.cross_validation import train_test_split to split the data into training and tesing set\n",
        "X_train, X_test, y_train, y_test = train_test_split(X, y, test_size = 0.20, random_state= 1) # split the data into traing and testing set where ratio is 80:20"
      ],
      "execution_count": 34,
      "outputs": []
    },
    {
      "cell_type": "markdown",
      "metadata": {
        "id": "ZHYyyvNKS9Lf"
      },
      "source": [
        "\n",
        "Get Tf-idf object and save it as vect. We can select features from here we just have simply change\n",
        "the ngram range to change the features also we can remove stop words over here with the help of stop parameter"
      ]
    },
    {
      "cell_type": "code",
      "metadata": {
        "id": "HeIYbRDDS2N2"
      },
      "source": [
        "vect = TfidfVectorizer(analyzer = \"word\", ngram_range=(1,3))"
      ],
      "execution_count": 35,
      "outputs": []
    },
    {
      "cell_type": "markdown",
      "metadata": {
        "id": "kMqw8CCETDfS"
      },
      "source": [
        "fit or training data tweets to vect"
      ]
    },
    {
      "cell_type": "code",
      "metadata": {
        "id": "CzFL6DO3TAty"
      },
      "source": [
        "vect.fit(X_train) \n",
        "X_train_dtm = vect.transform(X_train)"
      ],
      "execution_count": 36,
      "outputs": []
    },
    {
      "cell_type": "code",
      "metadata": {
        "id": "76hDjG9_TF4v"
      },
      "source": [
        "X_test_dtm = vect.transform(X_test)"
      ],
      "execution_count": 37,
      "outputs": []
    },
    {
      "cell_type": "markdown",
      "metadata": {
        "id": "skZLCBLlTLt6"
      },
      "source": [
        "## **DECISION TREE**"
      ]
    },
    {
      "cell_type": "code",
      "metadata": {
        "id": "TnLthj3PVsDk"
      },
      "source": [
        "from sklearn.tree import DecisionTreeClassifier\n",
        "clf_dtc = DecisionTreeClassifier(random_state = 100, max_depth=3, min_samples_leaf=5)"
      ],
      "execution_count": 38,
      "outputs": []
    },
    {
      "cell_type": "code",
      "metadata": {
        "colab": {
          "base_uri": "https://localhost:8080/"
        },
        "id": "q-3RPlgyWHlR",
        "outputId": "a9e45917-e3c0-4602-b0fc-eaefb692a9ea"
      },
      "source": [
        "clf_dtc.fit(X_train_dtm, y_train)"
      ],
      "execution_count": 39,
      "outputs": [
        {
          "output_type": "execute_result",
          "data": {
            "text/plain": [
              "DecisionTreeClassifier(ccp_alpha=0.0, class_weight=None, criterion='gini',\n",
              "                       max_depth=3, max_features=None, max_leaf_nodes=None,\n",
              "                       min_impurity_decrease=0.0, min_impurity_split=None,\n",
              "                       min_samples_leaf=5, min_samples_split=2,\n",
              "                       min_weight_fraction_leaf=0.0, presort='deprecated',\n",
              "                       random_state=100, splitter='best')"
            ]
          },
          "metadata": {
            "tags": []
          },
          "execution_count": 39
        }
      ]
    },
    {
      "cell_type": "code",
      "metadata": {
        "colab": {
          "base_uri": "https://localhost:8080/"
        },
        "id": "zjSaJMo-WIw3",
        "outputId": "0e4428e4-d727-495d-e964-62f4303bbc7e"
      },
      "source": [
        "from sklearn.model_selection import cross_val_score \n",
        "accuracies = cross_val_score(estimator = clf_dtc, X = X_train_dtm, y = y_train, cv = 10)\n",
        "accuracies.mean()"
      ],
      "execution_count": 40,
      "outputs": [
        {
          "output_type": "execute_result",
          "data": {
            "text/plain": [
              "0.582475"
            ]
          },
          "metadata": {
            "tags": []
          },
          "execution_count": 40
        }
      ]
    },
    {
      "cell_type": "code",
      "metadata": {
        "id": "AGYsnfYLWKCn"
      },
      "source": [
        "y_pred_dtc = clf_dtc.predict(X_test_dtm)"
      ],
      "execution_count": 41,
      "outputs": []
    },
    {
      "cell_type": "code",
      "metadata": {
        "colab": {
          "base_uri": "https://localhost:8080/"
        },
        "id": "TZ9HY0WZWLJi",
        "outputId": "9aafe7c3-2d40-42a6-96b7-9a355a502816"
      },
      "source": [
        "from sklearn import metrics\n",
        "metrics.accuracy_score(y_test, y_pred_dtc)"
      ],
      "execution_count": 42,
      "outputs": [
        {
          "output_type": "execute_result",
          "data": {
            "text/plain": [
              "0.5818"
            ]
          },
          "metadata": {
            "tags": []
          },
          "execution_count": 42
        }
      ]
    },
    {
      "cell_type": "markdown",
      "metadata": {
        "id": "-DBaOisYYCdS"
      },
      "source": [
        "## **Decision Tree Accuracy - 0.5818**"
      ]
    },
    {
      "cell_type": "code",
      "metadata": {
        "colab": {
          "base_uri": "https://localhost:8080/"
        },
        "id": "f-q9fXWzWMZB",
        "outputId": "4c134eeb-a544-48d6-e302-fad9689be8ce"
      },
      "source": [
        "from sklearn.metrics import confusion_matrix\n",
        "confusion_matrix(y_test, y_pred_dtc)"
      ],
      "execution_count": 43,
      "outputs": [
        {
          "output_type": "execute_result",
          "data": {
            "text/plain": [
              "array([[1305, 3763],\n",
              "       [ 419, 4513]])"
            ]
          },
          "metadata": {
            "tags": []
          },
          "execution_count": 43
        }
      ]
    },
    {
      "cell_type": "markdown",
      "metadata": {
        "id": "gOhWxkiXWSiJ"
      },
      "source": [
        "#K Nearest Neighbour"
      ]
    },
    {
      "cell_type": "code",
      "metadata": {
        "id": "q3mTBOaiWN4N"
      },
      "source": [
        "from sklearn.neighbors import KNeighborsClassifier  \n",
        "clf_knn = KNeighborsClassifier(n_neighbors=5)"
      ],
      "execution_count": 44,
      "outputs": []
    },
    {
      "cell_type": "markdown",
      "metadata": {
        "id": "0NbFKoVFWxq6"
      },
      "source": [
        ""
      ]
    },
    {
      "cell_type": "code",
      "metadata": {
        "colab": {
          "base_uri": "https://localhost:8080/"
        },
        "id": "8q-k6WfDWVN8",
        "outputId": "0dc9749d-497b-4330-9aa9-fb3fcbd55c29"
      },
      "source": [
        "clf_knn.fit(X_train_dtm, y_train)"
      ],
      "execution_count": 45,
      "outputs": [
        {
          "output_type": "execute_result",
          "data": {
            "text/plain": [
              "KNeighborsClassifier(algorithm='auto', leaf_size=30, metric='minkowski',\n",
              "                     metric_params=None, n_jobs=None, n_neighbors=5, p=2,\n",
              "                     weights='uniform')"
            ]
          },
          "metadata": {
            "tags": []
          },
          "execution_count": 45
        }
      ]
    },
    {
      "cell_type": "code",
      "metadata": {
        "colab": {
          "base_uri": "https://localhost:8080/"
        },
        "id": "d_DP1mt4WWin",
        "outputId": "640ff07c-01a5-4a0b-f939-d308a18569e1"
      },
      "source": [
        "from sklearn.model_selection import cross_val_score \n",
        "accuracies = cross_val_score(estimator = clf_knn, X = X_train_dtm, y = y_train, cv = 10)\n",
        "accuracies.mean()"
      ],
      "execution_count": 46,
      "outputs": [
        {
          "output_type": "execute_result",
          "data": {
            "text/plain": [
              "0.516075"
            ]
          },
          "metadata": {
            "tags": []
          },
          "execution_count": 46
        }
      ]
    },
    {
      "cell_type": "code",
      "metadata": {
        "id": "f1znKGqWWZJu"
      },
      "source": [
        "y_pred_knn = clf_knn.predict(X_test_dtm)"
      ],
      "execution_count": 47,
      "outputs": []
    },
    {
      "cell_type": "code",
      "metadata": {
        "colab": {
          "base_uri": "https://localhost:8080/"
        },
        "id": "cG3qe23sWbFc",
        "outputId": "57089e85-b5b5-41d9-eadd-8f4e13c55ae3"
      },
      "source": [
        "from sklearn import metrics\n",
        "metrics.accuracy_score(y_test, y_pred_knn)"
      ],
      "execution_count": 48,
      "outputs": [
        {
          "output_type": "execute_result",
          "data": {
            "text/plain": [
              "0.5226"
            ]
          },
          "metadata": {
            "tags": []
          },
          "execution_count": 48
        }
      ]
    },
    {
      "cell_type": "markdown",
      "metadata": {
        "id": "m39Jf9ZuX7tj"
      },
      "source": [
        "# **KNN ACCURACY** - 0.5226\n"
      ]
    },
    {
      "cell_type": "code",
      "metadata": {
        "colab": {
          "base_uri": "https://localhost:8080/"
        },
        "id": "blWXJNDEWc0d",
        "outputId": "b41ae939-7f94-42b9-e84a-9c5df9e73dd2"
      },
      "source": [
        "from sklearn.metrics import confusion_matrix\n",
        "confusion_matrix(y_test, y_pred_knn)"
      ],
      "execution_count": 49,
      "outputs": [
        {
          "output_type": "execute_result",
          "data": {
            "text/plain": [
              "array([[1978, 3090],\n",
              "       [1684, 3248]])"
            ]
          },
          "metadata": {
            "tags": []
          },
          "execution_count": 49
        }
      ]
    },
    {
      "cell_type": "code",
      "metadata": {
        "id": "ETwU9zzSWesW"
      },
      "source": [
        ""
      ],
      "execution_count": null,
      "outputs": []
    }
  ]
}